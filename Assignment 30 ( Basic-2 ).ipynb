{
 "cells": [
  {
   "cell_type": "markdown",
   "id": "c2fce394",
   "metadata": {},
   "source": [
    "# Q1. What are the three measures of central tendency?\n",
    "\n",
    "Ans:\n",
    "     \n",
    "The three measures of central tendency are:\n",
    "\n",
    "Mean: The mean, also known as the average, is calculated by summing up all the values in a dataset and dividing it by the total number of values. It represents the typical value of the dataset.\n",
    "\n",
    "Median: The median is the middle value in a dataset when it is arranged in ascending or descending order. If there is an odd number of values, the median is the middle value. If there is an even number of values, the median is the average of the two middle values. It represents the value that divides the dataset into two equal halves.\n",
    "\n",
    "Mode: The mode is the value that appears most frequently in a dataset. It represents the most common value or values in the dataset. A dataset can have no mode (when all values occur with equal frequency), one mode (unimodal), or multiple modes (multimodal)."
   ]
  },
  {
   "cell_type": "markdown",
   "id": "5df8337e",
   "metadata": {},
   "source": [
    "# Q2. What is the difference between the mean, median, and mode? How are they used to measure the central tendency of a dataset?\n",
    "\n",
    "Ans: The mean, median, and mode are all measures of central tendency used to describe the typical or central value of a dataset. However, they differ in how they are calculated and the type of information they provide.\n",
    "\n",
    "Mean: The mean is calculated by summing up all the values in a dataset and dividing by the total number of values. It is the arithmetic average and represents the balance point of the dataset. The mean is sensitive to extreme values, as it takes into account every value in the dataset. It is commonly used when the data is numerical and follows a symmetrical distribution.\n",
    "\n",
    "Median: The median is the middle value in a dataset when it is arranged in ascending or descending order. It is less affected by extreme values and represents the value that divides the dataset into two equal halves. The median is particularly useful when dealing with skewed distributions or datasets that have outliers. It is also applicable when the data is ordinal or interval in nature.\n",
    "\n",
    "Mode: The mode is the value that appears most frequently in a dataset. Unlike the mean and median, the mode can be applied to both numerical and categorical data. It identifies the most common value or values and can be useful for identifying the dominant category or peak in a distribution. A dataset can have no mode (when all values occur with equal frequency), one mode (unimodal), or multiple modes (multimodal).\n",
    "\n",
    "In summary, the mean represents the average value and is sensitive to extreme values, the median represents the middle value and is robust to extreme values, and the mode represents the most common value(s) in the dataset. These measures provide different insights into the central tendency of a dataset and are used based on the characteristics and distribution of the data."
   ]
  },
  {
   "cell_type": "markdown",
   "id": "a8487ed5",
   "metadata": {},
   "source": [
    "# Q3. Measure the three measures of central tendency for the given height data:\n",
    " [178,177,176,177,178.2,178,175,179,180,175,178.9,176.2,177,172.5,178,176.5]\n",
    " \n",
    "Ans: Let's calculate the Mean, Median and Mode :\n",
    "\n",
    "* mean:\n",
    " To find the mean, we sum up all the values and divide by the total number of values:\n",
    "Mean = (178 + 177 + 176 + 177 + 178.2 + 178 + 175 + 179 + 180 + 175 + 178.9 + 176.2 + 177 + 172.5 + 178 + 176.5) / 16\n",
    "\n",
    "Mean ≈ 177.01875\n",
    "\n",
    "So, the mean height is approximately 177\n",
    "\n",
    "* Median:\n",
    "To find the median, we first arrange the data in ascending order:\n",
    "[172.5, 175, 175, 176, 176.2, 176.5, 177, 177, 178, 178, 178, 178.2, 178.9, 179, 180]\n",
    "\n",
    "Since the total number of values is odd (16), the median is the middle value, which in this case is the 8th value:\n",
    "\n",
    "Median = 177\n",
    "\n",
    "So, the median height is 177.\n",
    "\n",
    "* Mode:\n",
    "To find the mode, we identify the value(s) that appear most frequently in the dataset:\n",
    "Mode = 178\n",
    "\n",
    "In this dataset, the value 178 occurs the most number of times.\n",
    "\n",
    "Therefore, the mode height is 178.\n",
    "\n",
    "To summarize the measures of central tendency for the given height data:\n",
    "\n",
    "* Mean: Approximately 177.01875\n",
    "* Median: 177\n",
    "* Mode: 178\n",
    "\n",
    "\n",
    "\n"
   ]
  },
  {
   "cell_type": "code",
   "execution_count": 10,
   "id": "5be54fa8",
   "metadata": {},
   "outputs": [
    {
     "name": "stdout",
     "output_type": "stream",
     "text": [
      "The mean is: 177.01875\n",
      "The median is: 177.0\n",
      "The mode is: 177.0\n"
     ]
    }
   ],
   "source": [
    "import pandas as pd \n",
    "\n",
    "data = [178,177,176,177,178.2,178,175,179,180,175,178.9,176.2,177,172.5,178,176.5]\n",
    "\n",
    "df = pd.DataFrame(data,columns=[\"A\"])\n",
    "\n",
    "print(\"The mean is:\", df.A.mean())\n",
    "print(\"The median is:\",df.A.median())\n",
    "print(\"The mode is:\", df.A.mode()[0])"
   ]
  },
  {
   "cell_type": "markdown",
   "id": "a6d4340f",
   "metadata": {},
   "source": [
    "# Q4. Find the standard deviation for the given data:\n",
    "[178,177,176,177,178.2,178,175,179,180,175,178.9,176.2,177,172.5,178,176.5]"
   ]
  },
  {
   "cell_type": "code",
   "execution_count": 14,
   "id": "8e1b0d55",
   "metadata": {},
   "outputs": [
    {
     "name": "stdout",
     "output_type": "stream",
     "text": [
      "Standard Deviation: 1.847238930584419\n"
     ]
    }
   ],
   "source": [
    "import pandas as pd\n",
    "\n",
    "data = [178,177,176,177,178.2,178,175,179,180,175,178.9,176.2,177,172.5,178,176.5]\n",
    "\n",
    "df =  pd.DataFrame(data,columns=[\"A\"])\n",
    "\n",
    "print(\"Standard Deviation:\",df.A.std())"
   ]
  },
  {
   "cell_type": "markdown",
   "id": "abf71089",
   "metadata": {},
   "source": [
    "# Q5. How are measures of dispersion such as range, variance, and standard deviation used to describe the spread of a dataset? Provide an example.\n",
    "\n",
    "* Measures of dispersion such as range, variance, and standard deviation are used to describe the spread or variability of a dataset. They provide information about how much the values in a dataset differ from each other.\n",
    "\n",
    "* Range:\n",
    "The range of a dataset is the difference between the maximum and minimum values in the dataset. It is a simple measure of dispersion that is easy to calculate, but it can be affected by outliers."
   ]
  },
  {
   "cell_type": "code",
   "execution_count": 15,
   "id": "a720fe27",
   "metadata": {},
   "outputs": [
    {
     "name": "stdout",
     "output_type": "stream",
     "text": [
      "Range of the dataset: 8\n"
     ]
    }
   ],
   "source": [
    "# example\n",
    "numbers = [1, 5, 2, 7, 4, 3, 6, 8, 9]\n",
    "data_range = max(numbers) - min(numbers)\n",
    "print(\"Range of the dataset:\", data_range)"
   ]
  },
  {
   "cell_type": "markdown",
   "id": "f706f693",
   "metadata": {},
   "source": [
    "# variance\n",
    "\n",
    "* Variance: The variance is a measure of how much the data points deviate from the mean. It is calculated by taking the average of the squared differences between each data point and the mean. The variance of this dataset is:"
   ]
  },
  {
   "cell_type": "code",
   "execution_count": 17,
   "id": "12a5accc",
   "metadata": {},
   "outputs": [
    {
     "data": {
      "text/plain": [
       "1.2048979591836697"
      ]
     },
     "execution_count": 17,
     "metadata": {},
     "output_type": "execute_result"
    }
   ],
   "source": [
    "import numpy as np\n",
    "d=[178,177,176,177,178.2,178,175]\n",
    "\n",
    "m=np.mean(d)\n",
    "xx=[]\n",
    "for i in d:\n",
    "    \n",
    "    \n",
    "    x= (i-np.mean(d))**2  # creation the variance formula var= (Xi-μ)**2/N\n",
    "    x=x/len(d)\n",
    "    xx.append(x)\n",
    "    var=sum(xx)\n",
    "    \n",
    "var                 \n",
    "                 \n",
    "                 "
   ]
  },
  {
   "cell_type": "markdown",
   "id": "5415ae05",
   "metadata": {},
   "source": [
    "# Standard deviation: The standard deviation is the square root of the variance. It is a commonly used measure of dispersion because it is in the same units as the original data. The standard deviation of this dataset is:"
   ]
  },
  {
   "cell_type": "code",
   "execution_count": 18,
   "id": "cf3cface",
   "metadata": {},
   "outputs": [
    {
     "data": {
      "text/plain": [
       "1.0976784407027724"
      ]
     },
     "execution_count": 18,
     "metadata": {},
     "output_type": "execute_result"
    }
   ],
   "source": [
    "d=[178,177,176,177,178.2,178,175]\n",
    "\n",
    "m=np.mean(d)\n",
    "xx=[]\n",
    "for i in d:\n",
    "    \n",
    "    \n",
    "    x= (i-np.mean(d))**2  # creation the variance formula std= sqroot((Xi-μ)**2/N)\n",
    "    x=x/len(d)\n",
    "    xx.append(x)\n",
    "    var= sum(xx)\n",
    "    STD=np.sqrt(var)\n",
    "STD\n",
    "    "
   ]
  },
  {
   "cell_type": "markdown",
   "id": "c0984d65",
   "metadata": {},
   "source": [
    "# Q6. What is a Venn diagram?\n",
    "\n",
    "Ans: \n",
    "\n",
    "In statistics, a Venn diagram is a graphical representation used to display the relationships and overlaps between different groups or categories of data. It helps to visually illustrate the intersection and commonality between sets of data.\n",
    "\n",
    "In statistics, Venn diagrams are particularly useful for visualizing the concepts of probability, set theory, and data classification. They provide a clear representation of the relationships between different subsets or categories within a dataset. By using overlapping circles or shapes, a Venn diagram can show the shared elements and unique elements across multiple groups.\n",
    "\n",
    "Here are a few specific applications of Venn diagrams in statistics:\n",
    "\n",
    "Probability: Venn diagrams can be used to depict the outcomes and events in probability theory. The overlapping regions represent the intersection of events, and the sizes of the regions can be used to represent the probabilities of different outcomes.\n",
    "\n",
    "Data Classification: Venn diagrams can be used to represent how different elements or data points are classified into various categories. Each circle or region in the diagram represents a category, and the overlapping regions show the elements that belong to multiple categories.\n",
    "\n",
    "Survey Analysis: Venn diagrams can be used to analyze survey responses and show the relationships between different variables or characteristics. They can illustrate how the responses overlap across different categories or groups.\n",
    "\n",
    "Set Operations: Venn diagrams are commonly used to illustrate set operations such as union, intersection, and complement. The regions in the diagram can visually represent these set operations, making it easier to understand the relationships between different sets.\n",
    "\n",
    "Overall, in statistics, Venn diagrams provide a visual representation that helps in understanding the relationships, overlaps, and differences between various subsets or categories of data. They are a valuable tool for analyzing and communicating statistical concepts and findings."
   ]
  },
  {
   "cell_type": "markdown",
   "id": "ae912125",
   "metadata": {},
   "source": [
    "# Q7. For the two given sets A = (2,3,4,5,6,7) & B = (0,2,6,8,10). Find:\n",
    "* (i) A B\n",
    "* (ii) A ⋃ B\n",
    "\n",
    "Ans:\n",
    "\n",
    "\n",
    "Given sets:\n",
    "A = {2, 3, 4, 5, 6, 7}\n",
    "B = {0, 2, 6, 8, 10}\n",
    "\n",
    "(i) A ∩ B (Intersection of A and B):\n",
    "The intersection of two sets A and B includes the elements that are common to both sets.\n",
    "\n",
    "A ∩ B = {2, 6}\n",
    "\n",
    "\n",
    "(ii) A ⋃ B (Union of A and B):\n",
    "The union of two sets A and B includes all the elements from both sets, without duplication.\n",
    "\n",
    "A ⋃ B = {0, 2, 3, 4, 5, 6, 7, 8, 10}"
   ]
  },
  {
   "cell_type": "markdown",
   "id": "908cea20",
   "metadata": {},
   "source": [
    "# Q8. What do you understand about skewness in data?\n",
    "\n",
    "Ans: Skewness in data refers to the measure of the asymmetry or lack of symmetry in the distribution of values in a dataset. It provides information about the shape and direction of the tail(s) in a distribution.\n",
    "\n",
    "When a distribution is symmetric, it means that the values are evenly distributed around the mean, and the left and right tails are equal in length. However, when skewness is present, the distribution may be skewed to the left (negatively skewed) or to the right (positively skewed).\n",
    "\n",
    "Negatively Skewed (Left Skewness):\n",
    "In a negatively skewed distribution, the tail on the left side is longer or more stretched out compared to the right side. The mean is typically lower than the median, and the majority of values are concentrated on the right side of the distribution. The left tail is also known as the tail of the distribution.\n",
    "\n",
    "Positively Skewed (Right Skewness):\n",
    "In a positively skewed distribution, the tail on the right side is longer or more stretched out compared to the left side. The mean is usually higher than the median, and the majority of values are concentrated on the left side of the distribution. The right tail is also known as the tail of the distribution.\n",
    "\n",
    "Skewness is an important concept in statistics as it provides insights into the shape and nature of the dataset. It affects the interpretation of central tendency measures like the mean and median. Skewness can also impact statistical analyses and modeling assumptions, as it may affect the validity of certain statistical tests or assumptions that rely on normality.\n",
    "\n",
    "To quantify skewness, statistical measures such as the skewness coefficient or skewness index can be used. These measures provide a numerical value to represent the degree and direction of skewness in the data. A skewness coefficient of zero indicates perfect symmetry, while positive or negative values indicate skewness in the respective direction.\n",
    "\n",
    "Understanding skewness helps in better understanding the distribution of data, identifying potential outliers or anomalies, and choosing appropriate statistical techniques for analysis and modeling."
   ]
  },
  {
   "cell_type": "markdown",
   "id": "90643951",
   "metadata": {},
   "source": [
    "# Q9. If a data is right skewed then what will be the position of median with respect to mean?\n",
    "\n",
    "Ans: In a right skewed distribution the mean is greater than the median and it is positive skewed data"
   ]
  },
  {
   "cell_type": "markdown",
   "id": "d0ebe0f4",
   "metadata": {},
   "source": [
    "# Q10. Explain the difference between covariance and correlation. How are these measures used in statistical analysis?\n",
    "\n",
    "Ans: Covariance and correlation are both measures used to describe the relationship between two variables in statistical analysis. While they are related, there are important differences between the two:\n",
    "\n",
    "Covariance:\n",
    "Covariance measures the extent to which two variables vary together or move in relation to each other. It quantifies the direction and strength of the linear relationship between two variables. A positive covariance indicates that the variables tend to move in the same direction, while a negative covariance indicates an inverse relationship.\n",
    "\n",
    "Covariance is calculated using the formula:\n",
    "cov(X, Y) = Σ((Xᵢ - μₓ) * (Yᵢ - μᵧ)) / n\n",
    "\n",
    "where X and Y are the variables of interest, Xᵢ and Yᵢ are the individual data points, μₓ and μᵧ are the means of X and Y, and n is the number of data points.\n",
    "\n",
    "Covariance values are not standardized and can range from negative infinity to positive infinity. The magnitude of covariance does not have a clear interpretation, and it depends on the scales of the variables being measured.\n",
    "\n",
    "Correlation:\n",
    "Correlation, specifically Pearson correlation, is a standardized measure that quantifies the strength and direction of the linear relationship between two variables. It provides a value between -1 and 1, where -1 represents a perfect negative linear relationship, 0 represents no linear relationship, and 1 represents a perfect positive linear relationship.\n",
    "\n",
    "Correlation is calculated using the formula:\n",
    "cor(X, Y) = cov(X, Y) / (σₓ * σᵧ)\n",
    "\n",
    "where cov(X, Y) is the covariance between X and Y, and σₓ and σᵧ are the standard deviations of X and Y, respectively.\n",
    "\n",
    "Correlation takes into account the scales of the variables and provides a standardized measure that allows for easy comparison. It is widely used in statistical analysis to assess the strength and direction of relationships, identify patterns, and make predictions.\n",
    "\n",
    "In statistical analysis, both covariance and correlation are used to examine relationships between variables. However, correlation is more commonly used because it provides a standardized measure that is easier to interpret and compare. Covariance is useful in certain contexts, such as calculating regression coefficients, but it does not have the same interpretability as correlation."
   ]
  },
  {
   "cell_type": "markdown",
   "id": "b4deebf1",
   "metadata": {},
   "source": [
    "# Q11. What is the formula for calculating the sample mean? Provide an example calculation for a dataset.\n",
    "\n",
    "Ans: \n",
    "The formula for calculating the sample mean, denoted by \"x̄\" or \"mean(x)\", is as follows:\n",
    "\n",
    "Sample Mean = (Sum of all values in the dataset) / (Number of values in the dataset)\n",
    "\n",
    "To illustrate with an example, let's calculate the sample mean for the following dataset:\n",
    "\n",
    "[10, 15, 20, 25, 30]\n",
    "\n",
    "To find the sample mean, we sum up all the values in the dataset and divide by the total number of values:\n",
    "\n",
    "Sample Mean = (10 + 15 + 20 + 25 + 30) / 5\n",
    "\n",
    "Sample Mean = 100 / 5\n",
    "\n",
    "Sample Mean = 20\n",
    "\n",
    "Therefore, the sample mean for the given dataset is 20."
   ]
  },
  {
   "cell_type": "markdown",
   "id": "9d1b769a",
   "metadata": {},
   "source": [
    "# Q12. For a normal distribution data what is the relationship between its measure of central tendency?\n",
    "\n",
    "Ans: \n",
    "For a normal distribution, the measure of central tendency, which includes the mean, median, and mode, are all equal and coincide at the same value.\n",
    "\n",
    "In a normal distribution, the data is symmetrically distributed around the center, and the shape of the distribution is bell-shaped. The mean, median, and mode are all located at the center of the distribution.\n",
    "\n",
    "Specifically, for a normal distribution:\n",
    "\n",
    "The mean is equal to the median, as they both represent the central value of the distribution.\n",
    "The mode is also equal to the mean and median since the distribution is symmetric and does not have a peak or mode at a specific value.\n",
    "This relationship between the measures of central tendency in a normal distribution occurs due to the symmetrical nature of the data. However, it's important to note that in real-world scenarios, datasets may not perfectly follow a normal distribution, and slight deviations from this relationship can occur."
   ]
  },
  {
   "cell_type": "markdown",
   "id": "fa1d39aa",
   "metadata": {},
   "source": [
    "# Q13. How is covariance different from correlation?\n",
    "\n",
    "Ans: Covariance and correlation are both measures used to assess the relationship between two variables, but they have some fundamental differences:\n",
    "\n",
    "Scale Dependence:\n",
    "Covariance is scale-dependent, meaning it is influenced by the units of measurement of the variables. The magnitude of covariance is affected by the scales of the variables being measured. Thus, it is difficult to compare covariances between different pairs of variables with different units.\n",
    "Correlation, on the other hand, is scale-free or scale-invariant. It is a standardized measure that normalizes the covariance by dividing it by the product of the standard deviations of the variables. This normalization allows for easy comparison between different pairs of variables, regardless of their units of measurement.\n",
    "\n",
    "Range of Values:\n",
    "Covariance can take any value from negative infinity to positive infinity. The sign of covariance indicates the direction of the relationship: positive covariance implies a positive relationship, negative covariance implies a negative relationship, and a covariance close to zero suggests no linear relationship.\n",
    "Correlation, however, is always bounded between -1 and 1. A correlation coefficient of -1 indicates a perfect negative linear relationship, 0 indicates no linear relationship, and 1 indicates a perfect positive linear relationship. Correlation provides a standardized measure of the strength and direction of the linear relationship between variables.\n",
    "\n",
    "Interpretation:\n",
    "Covariance lacks a clear interpretation due to its scale dependence. The magnitude of covariance is affected by the units of measurement, making it difficult to compare or draw conclusions about the strength of the relationship between variables.\n",
    "Correlation has a more straightforward interpretation. It provides a standardized measure that ranges between -1 and 1, making it easier to assess the strength and direction of the linear relationship. A correlation coefficient close to -1 or 1 indicates a strong linear relationship, while a correlation coefficient close to 0 suggests a weak or no linear relationship.\n",
    "\n",
    "In summary, covariance measures the extent and direction of the linear relationship between variables, while correlation provides a standardized measure that is scale-invariant and allows for easier comparison of relationships. Correlation is more commonly used due to its interpretability and ability to compare relationships between different pairs of variables."
   ]
  },
  {
   "cell_type": "markdown",
   "id": "4d54b6b0",
   "metadata": {},
   "source": [
    "# Q14. How do outliers affect measures of central tendency and dispersion? Provide an example.\n",
    "\n",
    "Ans: Outliers can have a significant impact on measures of central tendency and dispersion. Central tendency refers to statistical measures that indicate the center or average of a data set, such as the mean, median, and mode. Dispersion measures, on the other hand, provide information about the spread or variability of the data, including measures like range, variance, and standard deviation.\n",
    "\n",
    "The presence of outliers can affect these measures in the following ways:\n",
    "\n",
    "Measures of Central Tendency:\n",
    "\n",
    "Mean: Outliers can greatly influence the mean because it is sensitive to extreme values. A single outlier with a substantially different value from the rest of the data can pull the mean towards itself, causing a distortion in the average.\n",
    "Median: The median is less affected by outliers compared to the mean. It represents the middle value when the data is sorted. If there are outliers, they won't have as much impact on the median since it only considers the relative position of values.\n",
    "Mode: Outliers typically have no effect on the mode since it represents the most frequently occurring value in the dataset. Outliers, by definition, occur with low frequency and therefore do not affect the mode.\n",
    "Measures of Dispersion:\n",
    "\n",
    "Range: The range, which is the difference between the maximum and minimum values in a dataset, can be greatly influenced by outliers. Outliers with extreme values can increase the range significantly.\n",
    "Variance and Standard Deviation: Both variance and standard deviation are affected by outliers. Since they rely on the deviation of individual values from the mean, outliers can increase the dispersion by pushing the mean further away from the majority of the data points.\n",
    "Example:\n",
    "Let's consider a dataset representing the ages of a group of individuals: 25, 26, 28, 29, 30, 31, 32, 35, 40, 100. In this dataset, the value \"100\" is an outlier compared to the other values. If we calculate the mean of this dataset, the outlier greatly affects the result:\n",
    "\n",
    "Mean (without outlier) = (25 + 26 + 28 + 29 + 30 + 31 + 32 + 35 + 40) / 9 = 30.78\n",
    "Mean (with outlier) = (25 + 26 + 28 + 29 + 30 + 31 + 32 + 35 + 40 + 100) / 10 = 35.6\n",
    "\n",
    "As you can see, the outlier \"100\" significantly increased the mean from 30.78 to 35.6.\n",
    "\n",
    "In this example, the median remains unaffected since it only looks at the middle value. However, the range, variance, and standard deviation will be impacted due to the presence of the outlier, as it contributes to a wider spread of values."
   ]
  },
  {
   "cell_type": "code",
   "execution_count": null,
   "id": "cffa434a",
   "metadata": {},
   "outputs": [],
   "source": []
  }
 ],
 "metadata": {
  "kernelspec": {
   "display_name": "Python 3 (ipykernel)",
   "language": "python",
   "name": "python3"
  },
  "language_info": {
   "codemirror_mode": {
    "name": "ipython",
    "version": 3
   },
   "file_extension": ".py",
   "mimetype": "text/x-python",
   "name": "python",
   "nbconvert_exporter": "python",
   "pygments_lexer": "ipython3",
   "version": "3.11.0"
  }
 },
 "nbformat": 4,
 "nbformat_minor": 5
}
